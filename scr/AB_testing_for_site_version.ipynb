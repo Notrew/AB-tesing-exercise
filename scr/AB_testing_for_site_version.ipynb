{
 "cells": [
  {
   "cell_type": "markdown",
   "metadata": {},
   "source": [
    "### banner segmemt of online store\n",
    "#### using CI and p-value\n",
    "\n",
    "#### intro:\n",
    "We are an online store of sports goods: clothing, shoes, accessories and sports nutrition. On the main page of the store we show users banners in order to stimulate their sales. Now one of 5 banners is randomly displayed there. Each banner advertises a specific product or the entire company. Our marketers believe that the experience with banners can vary by segment, and their effectiveness may depend on the characteristics of user behavior.\n",
    "The manager of the company had an offer from partners to sell this place for a banner and advertise another service there (payment is assumed according to the CPC model).\n",
    "Help the manager make a decision."
   ]
  },
  {
   "cell_type": "code",
   "execution_count": 20,
   "metadata": {},
   "outputs": [],
   "source": [
    "import numpy as np \n",
    "import pandas as pd \n",
    "import scipy.stats as st\n",
    "import math"
   ]
  },
  {
   "cell_type": "markdown",
   "metadata": {},
   "source": [
    "##### data explanation\n",
    "* order_id - unique purchase number (NA for banner clicks and impressions)\n",
    "* user_id - unique identifier of the client\n",
    "* page_id - unique page number for event bundle (NA for purchases)\n",
    "* product - banner / purchase product\n",
    "* site_version - version of the site (mobile or desktop)\n",
    "* time - time of the action\n",
    "* title - type of event (show, click or purchase)\n",
    "* target - target class"
   ]
  },
  {
   "cell_type": "code",
   "execution_count": 2,
   "metadata": {},
   "outputs": [
    {
     "data": {
      "text/html": [
       "<div>\n",
       "<style scoped>\n",
       "    .dataframe tbody tr th:only-of-type {\n",
       "        vertical-align: middle;\n",
       "    }\n",
       "\n",
       "    .dataframe tbody tr th {\n",
       "        vertical-align: top;\n",
       "    }\n",
       "\n",
       "    .dataframe thead th {\n",
       "        text-align: right;\n",
       "    }\n",
       "</style>\n",
       "<table border=\"1\" class=\"dataframe\">\n",
       "  <thead>\n",
       "    <tr style=\"text-align: right;\">\n",
       "      <th></th>\n",
       "      <th>order_id</th>\n",
       "      <th>user_id</th>\n",
       "      <th>page_id</th>\n",
       "      <th>product</th>\n",
       "      <th>site_version</th>\n",
       "      <th>time</th>\n",
       "      <th>title</th>\n",
       "      <th>target</th>\n",
       "    </tr>\n",
       "  </thead>\n",
       "  <tbody>\n",
       "    <tr>\n",
       "      <th>0</th>\n",
       "      <td>cfcd208495d565ef66e7dff9f98764da</td>\n",
       "      <td>c81e728d9d4c2f636f067f89cc14862c</td>\n",
       "      <td>6f4922f45568161a8cdf4ad2299f6d23</td>\n",
       "      <td>sneakers</td>\n",
       "      <td>desktop</td>\n",
       "      <td>2019-01-11 09:24:43</td>\n",
       "      <td>banner_click</td>\n",
       "      <td>0</td>\n",
       "    </tr>\n",
       "    <tr>\n",
       "      <th>1</th>\n",
       "      <td>c4ca4238a0b923820dcc509a6f75849b</td>\n",
       "      <td>eccbc87e4b5ce2fe28308fd9f2a7baf3</td>\n",
       "      <td>4e732ced3463d06de0ca9a15b6153677</td>\n",
       "      <td>sneakers</td>\n",
       "      <td>desktop</td>\n",
       "      <td>2019-01-09 09:38:51</td>\n",
       "      <td>banner_show</td>\n",
       "      <td>0</td>\n",
       "    </tr>\n",
       "    <tr>\n",
       "      <th>2</th>\n",
       "      <td>c81e728d9d4c2f636f067f89cc14862c</td>\n",
       "      <td>eccbc87e4b5ce2fe28308fd9f2a7baf3</td>\n",
       "      <td>5c45a86277b8bf17bff6011be5cfb1b9</td>\n",
       "      <td>sports_nutrition</td>\n",
       "      <td>desktop</td>\n",
       "      <td>2019-01-09 09:12:45</td>\n",
       "      <td>banner_show</td>\n",
       "      <td>0</td>\n",
       "    </tr>\n",
       "    <tr>\n",
       "      <th>3</th>\n",
       "      <td>eccbc87e4b5ce2fe28308fd9f2a7baf3</td>\n",
       "      <td>eccbc87e4b5ce2fe28308fd9f2a7baf3</td>\n",
       "      <td>fb339ad311d50a229e497085aad219c7</td>\n",
       "      <td>company</td>\n",
       "      <td>desktop</td>\n",
       "      <td>2019-01-03 08:58:18</td>\n",
       "      <td>banner_show</td>\n",
       "      <td>0</td>\n",
       "    </tr>\n",
       "    <tr>\n",
       "      <th>4</th>\n",
       "      <td>a87ff679a2f3e71d9181a67b7542122c</td>\n",
       "      <td>eccbc87e4b5ce2fe28308fd9f2a7baf3</td>\n",
       "      <td>fb339ad311d50a229e497085aad219c7</td>\n",
       "      <td>company</td>\n",
       "      <td>desktop</td>\n",
       "      <td>2019-01-03 08:59:15</td>\n",
       "      <td>banner_click</td>\n",
       "      <td>0</td>\n",
       "    </tr>\n",
       "  </tbody>\n",
       "</table>\n",
       "</div>"
      ],
      "text/plain": [
       "                           order_id                           user_id   \n",
       "0  cfcd208495d565ef66e7dff9f98764da  c81e728d9d4c2f636f067f89cc14862c  \\\n",
       "1  c4ca4238a0b923820dcc509a6f75849b  eccbc87e4b5ce2fe28308fd9f2a7baf3   \n",
       "2  c81e728d9d4c2f636f067f89cc14862c  eccbc87e4b5ce2fe28308fd9f2a7baf3   \n",
       "3  eccbc87e4b5ce2fe28308fd9f2a7baf3  eccbc87e4b5ce2fe28308fd9f2a7baf3   \n",
       "4  a87ff679a2f3e71d9181a67b7542122c  eccbc87e4b5ce2fe28308fd9f2a7baf3   \n",
       "\n",
       "                            page_id           product site_version   \n",
       "0  6f4922f45568161a8cdf4ad2299f6d23          sneakers      desktop  \\\n",
       "1  4e732ced3463d06de0ca9a15b6153677          sneakers      desktop   \n",
       "2  5c45a86277b8bf17bff6011be5cfb1b9  sports_nutrition      desktop   \n",
       "3  fb339ad311d50a229e497085aad219c7           company      desktop   \n",
       "4  fb339ad311d50a229e497085aad219c7           company      desktop   \n",
       "\n",
       "                  time         title  target  \n",
       "0  2019-01-11 09:24:43  banner_click       0  \n",
       "1  2019-01-09 09:38:51   banner_show       0  \n",
       "2  2019-01-09 09:12:45   banner_show       0  \n",
       "3  2019-01-03 08:58:18   banner_show       0  \n",
       "4  2019-01-03 08:59:15  banner_click       0  "
      ]
     },
     "execution_count": 2,
     "metadata": {},
     "output_type": "execute_result"
    }
   ],
   "source": [
    "# read data\n",
    "# link: https://www.kaggle.com/datasets/podsyp/how-to-do-product-analytics?resource=download\n",
    "df = pd.read_csv(\"../data/product.csv\", sep=\",\")\n",
    "df.head()"
   ]
  },
  {
   "cell_type": "markdown",
   "metadata": {},
   "source": [
    "##### Assumption: User site version affects user behaviour\n",
    "* H0 = user site version affects selection\n",
    "* H1 = User site version doesnt affect selection\n",
    "\n",
    "confidence level = **0.05** for **95% confidence interval**\n",
    "\n",
    "practical significance = **0.01**"
   ]
  },
  {
   "cell_type": "code",
   "execution_count": 3,
   "metadata": {},
   "outputs": [],
   "source": [
    "def abStatistics(n1, n2, prob, alpha, x1,x2,practical_significance, std1, std2):\n",
    "    SE = math.sqrt(prob * (1-prob) * (1/n1 + 1/n2))\n",
    "    alpha = st.norm.ppf(1-alpha/2)\n",
    "    margin_of_error = SE * alpha\n",
    "    \n",
    "    mean_diff = x1-x2\n",
    "    lower_bound = mean_diff-margin_of_error\n",
    "    upper_bound = mean_diff+margin_of_error\n",
    "    \n",
    "    zscore = mean_diff / math.sqrt((math.pow(std1,2)/n1) + (math.pow(std2,2)/n2))\n",
    "    pvalue = st.norm.sf(abs(zscore))*2\n",
    "    d = (std1-std2)/SE\n",
    "    if practical_significance < lower_bound:\n",
    "        print(\"Reject null Hypothesis\")\n",
    "    else:\n",
    "        print (\"Accept null Hypothesis\")\n",
    "        \n",
    "    if pvalue <= alpha:\n",
    "        print(\"Reject null Hypothesis, Result is statistical significant\")\n",
    "    else:\n",
    "        print(\"Accept Alternate Hypothesis, Result not statistical significant \")\n",
    "\n",
    "    print(f\"Standard Error: {SE}, margin of error: {margin_of_error},\\nCI ({lower_bound},{upper_bound})\")"
   ]
  },
  {
   "cell_type": "code",
   "execution_count": 12,
   "metadata": {},
   "outputs": [
    {
     "data": {
      "text/html": [
       "<div>\n",
       "<style scoped>\n",
       "    .dataframe tbody tr th:only-of-type {\n",
       "        vertical-align: middle;\n",
       "    }\n",
       "\n",
       "    .dataframe tbody tr th {\n",
       "        vertical-align: top;\n",
       "    }\n",
       "\n",
       "    .dataframe thead th {\n",
       "        text-align: right;\n",
       "    }\n",
       "</style>\n",
       "<table border=\"1\" class=\"dataframe\">\n",
       "  <thead>\n",
       "    <tr style=\"text-align: right;\">\n",
       "      <th></th>\n",
       "      <th>site_version</th>\n",
       "      <th>title</th>\n",
       "      <th>target</th>\n",
       "      <th>user_id</th>\n",
       "    </tr>\n",
       "  </thead>\n",
       "  <tbody>\n",
       "    <tr>\n",
       "      <th>0</th>\n",
       "      <td>desktop</td>\n",
       "      <td>banner_click</td>\n",
       "      <td>0</td>\n",
       "      <td>115065</td>\n",
       "    </tr>\n",
       "    <tr>\n",
       "      <th>1</th>\n",
       "      <td>desktop</td>\n",
       "      <td>banner_show</td>\n",
       "      <td>0</td>\n",
       "      <td>2134639</td>\n",
       "    </tr>\n",
       "    <tr>\n",
       "      <th>2</th>\n",
       "      <td>desktop</td>\n",
       "      <td>order</td>\n",
       "      <td>133181</td>\n",
       "      <td>133181</td>\n",
       "    </tr>\n",
       "    <tr>\n",
       "      <th>3</th>\n",
       "      <td>mobile</td>\n",
       "      <td>banner_click</td>\n",
       "      <td>0</td>\n",
       "      <td>714119</td>\n",
       "    </tr>\n",
       "    <tr>\n",
       "      <th>4</th>\n",
       "      <td>mobile</td>\n",
       "      <td>banner_show</td>\n",
       "      <td>0</td>\n",
       "      <td>5258675</td>\n",
       "    </tr>\n",
       "    <tr>\n",
       "      <th>5</th>\n",
       "      <td>mobile</td>\n",
       "      <td>order</td>\n",
       "      <td>115541</td>\n",
       "      <td>115541</td>\n",
       "    </tr>\n",
       "  </tbody>\n",
       "</table>\n",
       "</div>"
      ],
      "text/plain": [
       "  site_version         title  target  user_id\n",
       "0      desktop  banner_click       0   115065\n",
       "1      desktop   banner_show       0  2134639\n",
       "2      desktop         order  133181   133181\n",
       "3       mobile  banner_click       0   714119\n",
       "4       mobile   banner_show       0  5258675\n",
       "5       mobile         order  115541   115541"
      ]
     },
     "execution_count": 12,
     "metadata": {},
     "output_type": "execute_result"
    }
   ],
   "source": [
    "df2 = df.groupby([\"site_version\", \"title\"]).agg({\"target\":\"sum\", \"user_id\":\"count\"}).reset_index()\n",
    "df2"
   ]
  },
  {
   "cell_type": "code",
   "execution_count": 15,
   "metadata": {},
   "outputs": [],
   "source": [
    "# Compute data for desktop orders\n",
    "total_desktop = df[\"target\"][df[\"site_version\"] == \"desktop\"].count()\n",
    "total_desktop_order = df[\"target\"][(df[\"site_version\"] == \"desktop\") & (df[\"title\"] == \"order\")].sum()\n",
    "mean_desktop_order = total_desktop_order/total_desktop\n",
    "std_desktop_order = df[\"target\"][df[\"site_version\"] == \"desktop\"].std()"
   ]
  },
  {
   "cell_type": "code",
   "execution_count": 16,
   "metadata": {},
   "outputs": [],
   "source": [
    "# Compute data for mobile orders\n",
    "total_mobile = df[\"target\"][df[\"site_version\"] == \"mobile\"].count()\n",
    "total_mobile_order = df[\"target\"][(df[\"site_version\"]==\"mobile\")&(df[\"title\"]==\"order\")].sum()\n",
    "mean_mobile_order = total_mobile_order/total_mobile\n",
    "std_mobile_order = df[\"target\"][df[\"site_version\"] == \"mobile\"].std()"
   ]
  },
  {
   "cell_type": "code",
   "execution_count": 6,
   "metadata": {},
   "outputs": [
    {
     "data": {
      "text/plain": [
       "0.029360824060761025"
      ]
     },
     "execution_count": 6,
     "metadata": {},
     "output_type": "execute_result"
    }
   ],
   "source": [
    "# Probability of Order\n",
    "prob = (total_desktop_order+total_mobile_order)/ (total_mobile + total_desktop)\n",
    "prob"
   ]
  },
  {
   "cell_type": "code",
   "execution_count": 19,
   "metadata": {},
   "outputs": [
    {
     "name": "stdout",
     "output_type": "stream",
     "text": [
      "Reject null Hypothesis\n",
      "Reject null Hypothesis, Result is statistical significant\n",
      "Standard Error: 0.00012899865925454382, margin of error: 0.00025283272619286044,\n",
      "CI (0.0366603828279715,0.03716604828035722)\n"
     ]
    }
   ],
   "source": [
    "# Calculate the statistics\n",
    "alpha = 0.05 #95%  confidence level\n",
    "pratical_sig = 0.01\n",
    "abStatistics(total_desktop, total_mobile, prob, alpha, mean_desktop_order,mean_mobile_order,pratical_sig, std_desktop_order, std_mobile_order)"
   ]
  }
 ],
 "metadata": {
  "kernelspec": {
   "display_name": "base",
   "language": "python",
   "name": "python3"
  },
  "language_info": {
   "codemirror_mode": {
    "name": "ipython",
    "version": 3
   },
   "file_extension": ".py",
   "mimetype": "text/x-python",
   "name": "python",
   "nbconvert_exporter": "python",
   "pygments_lexer": "ipython3",
   "version": "3.8.8"
  },
  "orig_nbformat": 4
 },
 "nbformat": 4,
 "nbformat_minor": 2
}
